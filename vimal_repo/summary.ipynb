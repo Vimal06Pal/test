{
  "nbformat": 4,
  "nbformat_minor": 0,
  "metadata": {
    "colab": {
      "name": "Untitled0.ipynb",
      "provenance": [],
      "collapsed_sections": [],
      "toc_visible": true
    },
    "kernelspec": {
      "name": "python3",
      "display_name": "Python 3"
    },
    "accelerator": "GPU"
  },
  "cells": [
    {
      "cell_type": "markdown",
      "metadata": {
        "id": "g1qWT7YA9iHy",
        "colab_type": "text"
      },
      "source": [
        "# Importing libraries"
      ]
    },
    {
      "cell_type": "code",
      "metadata": {
        "id": "AUyxeMQXkMg6",
        "colab_type": "code",
        "outputId": "8d50aa6e-cf8d-433d-c382-c0ff070909c4",
        "colab": {
          "base_uri": "https://localhost:8080/",
          "height": 170
        }
      },
      "source": [
        "%tensorflow_version 1.x\n",
        "!pip install -q gpt-2-simple\n",
        "import gpt_2_simple as gpt2\n",
        "from datetime import datetime\n",
        "from google.colab import files"
      ],
      "execution_count": 1,
      "outputs": [
        {
          "output_type": "stream",
          "text": [
            "TensorFlow 1.x selected.\n",
            "WARNING:tensorflow:\n",
            "The TensorFlow contrib module will not be included in TensorFlow 2.0.\n",
            "For more information, please see:\n",
            "  * https://github.com/tensorflow/community/blob/master/rfcs/20180907-contrib-sunset.md\n",
            "  * https://github.com/tensorflow/addons\n",
            "  * https://github.com/tensorflow/io (for I/O related ops)\n",
            "If you depend on functionality not listed there, please file an issue.\n",
            "\n"
          ],
          "name": "stdout"
        }
      ]
    },
    {
      "cell_type": "code",
      "metadata": {
        "id": "TK9uOGQg50e4",
        "colab_type": "code",
        "colab": {}
      },
      "source": [
        ""
      ],
      "execution_count": 0,
      "outputs": []
    },
    {
      "cell_type": "markdown",
      "metadata": {
        "id": "Q0EbWahk900v",
        "colab_type": "text"
      },
      "source": [
        "# Downloading gpt2 model"
      ]
    },
    {
      "cell_type": "code",
      "metadata": {
        "id": "DgPyDq1okfCf",
        "colab_type": "code",
        "outputId": "c28cbec1-6e60-4ca5-9dfb-186b9b3c2798",
        "colab": {
          "base_uri": "https://localhost:8080/",
          "height": 136
        }
      },
      "source": [
        "gpt2.download_gpt2(model_name=\"124M\")"
      ],
      "execution_count": 6,
      "outputs": [
        {
          "output_type": "stream",
          "text": [
            "Fetching checkpoint: 1.05Mit [00:00, 261Mit/s]                                                      \n",
            "Fetching encoder.json: 1.05Mit [00:00, 125Mit/s]                                                    \n",
            "Fetching hparams.json: 1.05Mit [00:00, 763Mit/s]                                                    \n",
            "Fetching model.ckpt.data-00000-of-00001: 498Mit [00:01, 253Mit/s]                                   \n",
            "Fetching model.ckpt.index: 1.05Mit [00:00, 358Mit/s]                                                \n",
            "Fetching model.ckpt.meta: 1.05Mit [00:00, 177Mit/s]                                                 \n",
            "Fetching vocab.bpe: 1.05Mit [00:00, 214Mit/s]                                                       \n"
          ],
          "name": "stderr"
        }
      ]
    },
    {
      "cell_type": "code",
      "metadata": {
        "id": "Rc_I6Dwim81i",
        "colab_type": "code",
        "colab": {}
      },
      "source": [
        "file_name = \"description.txt\""
      ],
      "execution_count": 0,
      "outputs": []
    },
    {
      "cell_type": "code",
      "metadata": {
        "id": "MX8uzsQWnXMT",
        "colab_type": "code",
        "outputId": "c318db93-4e77-4f51-bd02-8ac9db50cbdf",
        "colab": {
          "base_uri": "https://localhost:8080/",
          "height": 34
        }
      },
      "source": [
        "file_name"
      ],
      "execution_count": 4,
      "outputs": [
        {
          "output_type": "execute_result",
          "data": {
            "text/plain": [
              "'description.txt'"
            ]
          },
          "metadata": {
            "tags": []
          },
          "execution_count": 4
        }
      ]
    },
    {
      "cell_type": "code",
      "metadata": {
        "id": "YAxm5iqwndjf",
        "colab_type": "code",
        "outputId": "65780bd6-67bb-4601-ebe5-f8fa982e077a",
        "colab": {
          "base_uri": "https://localhost:8080/",
          "height": 54
        }
      },
      "source": [
        "from google.colab import drive\n",
        "drive.mount('/content/drive')"
      ],
      "execution_count": 0,
      "outputs": [
        {
          "output_type": "stream",
          "text": [
            "Drive already mounted at /content/drive; to attempt to forcibly remount, call drive.mount(\"/content/drive\", force_remount=True).\n"
          ],
          "name": "stdout"
        }
      ]
    },
    {
      "cell_type": "markdown",
      "metadata": {
        "id": "lZbTEqNx-IWg",
        "colab_type": "text"
      },
      "source": [
        "# Upload .txt file into gpt2"
      ]
    },
    {
      "cell_type": "code",
      "metadata": {
        "id": "fWOWJ0l5nrlC",
        "colab_type": "code",
        "colab": {}
      },
      "source": [
        "gpt2.copy_file_from_gdrive(file_name)"
      ],
      "execution_count": 0,
      "outputs": []
    },
    {
      "cell_type": "markdown",
      "metadata": {
        "id": "4anxwrrQ_N4v",
        "colab_type": "text"
      },
      "source": [
        "# Training our model on gpt2 \n",
        "\n",
        "```\n",
        "# This is formatted as code\n",
        "```\n",
        "\n"
      ]
    },
    {
      "cell_type": "code",
      "metadata": {
        "id": "4-7Fu-LbonJ1",
        "colab_type": "code",
        "outputId": "86f25500-6c28-4e93-f197-e14aebf30da0",
        "colab": {
          "base_uri": "https://localhost:8080/",
          "height": 1000
        }
      },
      "source": [
        "sess = gpt2.start_tf_sess()\n",
        "\n",
        "gpt2.finetune(sess,\n",
        "              dataset=file_name,\n",
        "              model_name='124M',\n",
        "              steps=1000,\n",
        "              restore_from='fresh',\n",
        "              run_name='run1',\n",
        "              print_every=10,\n",
        "              sample_every=200,\n",
        "              save_every=500\n",
        "              )"
      ],
      "execution_count": 8,
      "outputs": [
        {
          "output_type": "stream",
          "text": [
            "WARNING:tensorflow:From /usr/local/lib/python3.6/dist-packages/gpt_2_simple/src/sample.py:17: where (from tensorflow.python.ops.array_ops) is deprecated and will be removed in a future version.\n",
            "Instructions for updating:\n",
            "Use tf.where in 2.0, which has the same broadcast rule as np.where\n",
            "Loading checkpoint models/124M/model.ckpt\n",
            "INFO:tensorflow:Restoring parameters from models/124M/model.ckpt\n"
          ],
          "name": "stdout"
        },
        {
          "output_type": "stream",
          "text": [
            "\r  0%|          | 0/1 [00:00<?, ?it/s]"
          ],
          "name": "stderr"
        },
        {
          "output_type": "stream",
          "text": [
            "Loading dataset...\n"
          ],
          "name": "stdout"
        },
        {
          "output_type": "stream",
          "text": [
            "100%|██████████| 1/1 [00:21<00:00, 21.17s/it]\n"
          ],
          "name": "stderr"
        },
        {
          "output_type": "stream",
          "text": [
            "dataset has 4254765 tokens\n",
            "Training...\n",
            "[10 | 19.21] loss=3.64 avg=3.64\n",
            "[20 | 31.72] loss=3.46 avg=3.55\n",
            "[30 | 44.20] loss=3.50 avg=3.53\n",
            "[40 | 56.69] loss=3.40 avg=3.50\n",
            "[50 | 69.18] loss=3.17 avg=3.43\n",
            "[60 | 81.67] loss=3.13 avg=3.38\n",
            "[70 | 94.15] loss=3.12 avg=3.34\n",
            "[80 | 106.61] loss=3.13 avg=3.31\n",
            "[90 | 119.13] loss=3.39 avg=3.32\n",
            "[100 | 131.61] loss=3.08 avg=3.30\n",
            "[110 | 144.09] loss=2.87 avg=3.26\n",
            "[120 | 156.59] loss=3.21 avg=3.25\n",
            "[130 | 169.06] loss=2.73 avg=3.21\n",
            "[140 | 181.54] loss=3.13 avg=3.20\n",
            "[150 | 194.02] loss=2.84 avg=3.18\n",
            "[160 | 206.51] loss=3.21 avg=3.18\n",
            "[170 | 218.99] loss=2.91 avg=3.16\n",
            "[180 | 231.47] loss=3.03 avg=3.15\n",
            "[190 | 243.97] loss=2.91 avg=3.14\n",
            "[200 | 256.45] loss=2.66 avg=3.11\n",
            "======== SAMPLE 1 ========\n",
            ".-·’Culture and Technology·High School Diploma or equivalent·Fluent in Spanish·Excellent customer service skills·Must have a valid drivers license·MUST be able to read and write a driving license with a minimum of 2 years of driving experience in their driving  \n",
            "\n",
            "'Project Management Staffing Associate Job in West Palm Beach, Florida at SONIC Inc'\n",
            " SONIC has a growing international client-focused and established PR agency which currently employs over 200 of its talented Project Management/Project Manager team members.Our goal is to add to the number of Project Management staff by increasing their effectiveness and exposure to clients. We currently have a wide variety of activities aligned to our Project Management/Project Manager responsibilities including:• High level of team management• Customer service• Project Management• Project support• High level of professional development/team building• Managing financial risk• Project Management• Planning• Development.• Project Management Services, including Project Lead Management• Project Management Training• Project support• Project management team  \n",
            "\n",
            "\"Local Delivery Driver, Maintenance Technician, and/or Retail Merchant Job in Houston, TX at L&O\"\n",
            " L&O Local Distribution, L&O Houston is looking for the right Delivery Driver to join our growing team!​ We are looking for a full-time delivery Driver in a warehouse location in Huntsville. This person will be responsible for the delivery of goods and services from the warehouse to the customer. This person will be responsible for the daily routine of delivering and performing maintenance tasks on the warehouse floor. In addition to this, L&O is looking for a motivated person to work directly with customers.What Youll Need- A valid drivers license and clean driving record- Must have at least a 5+ year driving record with no careless driving. Will meet with customers at a predetermined location to pick them up and load them for their delivery. Must be comfortable using forklifts and forklifts with lifting heavy equipment. The job should be performed over a 24 hour period at very high volume. Will typically drive 10+ to 20+ hours for one day (no overtime allowed). Must have 3 to 5 paid training trips per week with no days off at all. (must have up to 1 month of prior experience) No moving violations or reckless driving or accidents. Will have the ability to travel, pick up and deliver all product on an hourly basis. Will be able to work on weekends, at the discretion of our Manager and/or the Sales Manager.Must have a valid drivers license with a clean driving record with no reckless driving.Must have a clean driving record and work outside on Sundays.Will likely load at the Warehouse and go into a store. Will frequently be inside the store in the evenings or days of the week. Will occasionally lift up to 50 pounds frequently.Must have a current Class A CDL with no recent accidents / incidents. Must be able to work up to 10 hours per day with no overtime. MUST have at least a Class C CDL.DUTIES & RESPONSIBILITIES- This position is based on a customer service, customer service-oriented approach. Delivery driver must have knowledge of: retail-to-mall logistics-customers-sales-customer interaction-customer service approach and must be a dedicated resource in a fast paced environment-operates a large-size freight truck, drives to different locations using a forklift, delivers packages by hand, and goes to store on a regular basis.SUMMARY- This individual will be responsible for the daily routine of delivering and performing maintenance tasks on the warehouse floor. In addition to this, this position is responsible for the daily routine of delivering and performing maintenance tasks on the warehouse floor. These will be done by working with people, by answering questions related to issues with the delivery, by using the tools and tools in proper order and performing the tasks in a fair and efficient manner, and by answering questions and working the delivery as needed.ESSENTIAL DUTIES AND RESPONSIBILITIES- Determines and reports on all customer service, order handling, and delivery status. Will be in possession of a digital log file and has data concerning all physical/customer interactions involving all accounts, which have been completed by hand/online/telecommunications or by other means. Maintains data records and reports delivery, purchase, inventory, and service status. Will be responsible for the daily process to route (call, text, fax, etc.) and resolve all customer problems. Must be knowledgeable and knowledgeable in all aspects of products, the delivery process, and the delivery methodology. Maintains the confidentiality of customer details. Must regularly check for and obtain a shipping slip in order to ensure accurate shipping information. Will typically travel to different sites on the internet to resolve customer issues. Will travel to the site where customer orders are received or can be resolved. Will frequently visit store on the weekends and work weekends. Will occasionally travel to the customer's location when the customer is on vacation. Must be an accurate and reliable delivery\n",
            "\n",
            "[210 | 279.64] loss=2.81 avg=3.10\n",
            "[220 | 292.13] loss=3.00 avg=3.09\n",
            "[230 | 304.61] loss=3.04 avg=3.09\n",
            "[240 | 317.09] loss=2.67 avg=3.07\n",
            "[250 | 329.56] loss=2.74 avg=3.06\n",
            "[260 | 342.04] loss=2.42 avg=3.03\n",
            "[270 | 354.50] loss=2.51 avg=3.01\n",
            "[280 | 366.98] loss=2.59 avg=2.99\n",
            "[290 | 379.46] loss=2.61 avg=2.97\n",
            "[300 | 391.95] loss=2.71 avg=2.96\n",
            "[310 | 404.43] loss=2.93 avg=2.96\n",
            "[320 | 416.91] loss=2.57 avg=2.95\n",
            "[330 | 429.38] loss=3.00 avg=2.95\n",
            "[340 | 441.86] loss=2.82 avg=2.95\n",
            "[350 | 454.34] loss=2.43 avg=2.93\n",
            "[360 | 466.81] loss=2.42 avg=2.91\n",
            "[370 | 479.29] loss=2.21 avg=2.89\n",
            "[380 | 491.76] loss=2.38 avg=2.87\n",
            "[390 | 504.24] loss=2.03 avg=2.85\n",
            "[400 | 516.72] loss=2.54 avg=2.84\n",
            "======== SAMPLE 1 ========\n",
            " in a fast-paced environment, making sure everything is in order and in order for all our staff and client base to be properly engaged. Our Customer Service team members are the best, and are responsible for making sure the customer is satisfied with their order. These relationships are what make Team USA a place to work with high quality staff members and provide a rewarding learning experience.\n",
            "\n",
            "'CDL Class A Job in Des Moines, IA at Aflac - Southern Cable'\n",
            "Job Description:We are a full-service cable television service operating from Des Moines, Idaho. Our service is provided to our customers in a home-based, home-built, home-built flatbed/tri-axle company for cable TV services. Our cable TV service provides services across Southern Cable TV. We are currently looking for experienced CDL Class A crew to join our team and develop a career in a similar industry.What We Will Offer:We offer high pay with great benefits.We will pay full & part-time drivers weekly.We run a flatbed, a triple-axle, and a flatliner and can support three-to-six hours of service per day as long as you are comfortable with pulling more than one or two logs for your route.What We Need:Experience in driving a 4 lb box truck a plus, with an average of 7-11 hours in a year.Able to cover a variety of work areas.Able to meet and exceed all company guidelines for performance.Able to deliver on time and follow all company travel plans.Able to multi-task and be able to perform at a high level at any position.Able to meet the Labor & Delivery and prescription medications in a timely manner.If in doubt feel free to contact us from outside or with a text message at 816-365-8050!What We Are Looking For:Able to work a 24-hour schedule with unlimited miles, and the ability to work a variety of work areas.Able to communicate and pass a basic screening process to submit a resume, with all required paperwork.If you are a team player and a team player, work with us!  \n",
            "\n",
            "'Class A Hazmat Driver - New York City Job in Long Island City, NY at Express Employment Professionals, Inc.'\n",
            "Class A Hazmat Driver  $1000.00 to $1000.00/hr. $1000.00 Per Diem    Applicants must be 21 years or older.Must have:High School Diploma or equivalent.Class A Hazmat Driver and Hazmat Driver's License.Minimum of: 1 year of experience operating a delivery truck and tanker truck.Previous experience operating a tanker truck; required work experience a plus.DOT Supplemental Disability Insurance Coverage for Temporary Employees for a Weekly Base Salary.   \n",
            "\n",
            "'CDL A / Truck Driver | Class C Job in Grand Rapids, MI at JOBSTIC REPORTS'\n",
            "                                                                                                                                                            \n",
            "                                                            \n",
            "                                                     \n",
            "                                                   \n",
            "                                                                                  \n",
            "              \n",
            "\n",
            "[410 | 538.08] loss=2.60 avg=2.83\n",
            "[420 | 550.55] loss=2.26 avg=2.81\n",
            "[430 | 563.04] loss=2.71 avg=2.81\n",
            "[440 | 575.52] loss=2.72 avg=2.81\n",
            "[450 | 588.02] loss=2.41 avg=2.80\n",
            "[460 | 600.50] loss=2.37 avg=2.79\n",
            "[470 | 612.96] loss=2.07 avg=2.77\n",
            "[480 | 625.47] loss=2.39 avg=2.76\n",
            "[490 | 637.95] loss=2.73 avg=2.76\n",
            "[500 | 650.41] loss=1.90 avg=2.74\n",
            "Saving checkpoint/run1/model-500\n",
            "[510 | 665.63] loss=2.38 avg=2.73\n",
            "[520 | 678.11] loss=2.32 avg=2.72\n",
            "[530 | 690.58] loss=2.40 avg=2.71\n",
            "[540 | 703.04] loss=2.54 avg=2.70\n",
            "[550 | 715.50] loss=2.67 avg=2.70\n",
            "[560 | 727.97] loss=2.42 avg=2.70\n",
            "[570 | 740.43] loss=2.04 avg=2.68\n",
            "[580 | 752.90] loss=2.45 avg=2.68\n",
            "[590 | 765.38] loss=2.53 avg=2.67\n",
            "[600 | 777.86] loss=2.21 avg=2.66\n",
            "======== SAMPLE 1 ========\n",
            " closure, cleaning and other miscellaneous tasks as required. \n",
            "                    Excellent Pay - Including Health Insurance and 401(K). \n",
            "                   Excellent Training - From Day One!  \n",
            "                   Work with others to get the job done                          \n",
            "                   Excellent Work Environment! \n",
            "                              \n",
            "                        \n",
            "                             \n",
            "                           \n",
            "                     \n",
            "                                \n",
            "                              \n",
            "                                \n",
            "                       \n",
            "                          \n",
            "                                      \n",
            "                                        \n",
            "                                                      \n",
            "                                      \n",
            "                               \n",
            "                                               \n",
            "                                  \n",
            "                         \n",
            "                                  \n",
            "                               \n",
            "                         \n",
            "\n",
            "'Warehouse / Supply Chain Job in Austin, TX at Ameritrans'\n",
            "Are you looking for a new opportunity where you can grow with a talented and driven team? If you answered yes to ALL 3 questions then this is the right place to bring your career. Our team members are independently motivated with a passion for delivering top-notch workplace quality support. Here at Ameritrans, we have a mission statement: We are more people than any company in the developed world and we take pride in our commitment to deliver the most innovative, best-in-class, and best-fit support program in the industry. We work hard to deliver what we do and where we want.If you are looking for a high-paying, high-achieving opportunity, apply now!At Ameritrans we take pride in what we do. Our goal is to inspire every employee within our facility by focusing\n",
            "\n",
            "[610 | 799.41] loss=2.55 avg=2.66\n",
            "[620 | 811.90] loss=2.07 avg=2.65\n",
            "[630 | 824.37] loss=2.65 avg=2.65\n",
            "[640 | 836.83] loss=1.90 avg=2.63\n",
            "[650 | 849.31] loss=2.55 avg=2.63\n",
            "[660 | 861.79] loss=2.29 avg=2.62\n",
            "[670 | 874.26] loss=1.37 avg=2.60\n",
            "[680 | 886.74] loss=2.12 avg=2.59\n",
            "[690 | 899.24] loss=2.54 avg=2.59\n",
            "[700 | 911.70] loss=2.32 avg=2.58\n",
            "[710 | 924.18] loss=2.13 avg=2.57\n",
            "[720 | 936.66] loss=2.60 avg=2.57\n",
            "[730 | 949.12] loss=2.71 avg=2.58\n",
            "[740 | 961.60] loss=1.69 avg=2.56\n",
            "[750 | 974.09] loss=2.30 avg=2.55\n",
            "[760 | 986.56] loss=2.10 avg=2.55\n",
            "[770 | 999.03] loss=1.98 avg=2.54\n",
            "[780 | 1011.53] loss=2.26 avg=2.53\n",
            "[790 | 1024.00] loss=1.81 avg=2.52\n",
            "[800 | 1036.48] loss=1.38 avg=2.50\n",
            "======== SAMPLE 1 ========\n",
            "pMaintaining a positive and constructive working relationships with vendorsAssisting vendors and drivers with vehicle maintenanceHelp coordinate training sessions with driversHelp coordinate maintenance sessions with vendorsHelp coordinate training meetings with driversHelp coordinate training sessions with driversAssisting with the loading and unloading of equipmentHelp supervise driversAttend training for field employeesWork with drivers to ensure that all equipment is installed correctly and professionally and in the customer's best interestAssist with inventory management and quality checkPrepare orders for deliveryCommunicate with customers and customers to ensure that delivery equipment is in great working conditionQualifications and Qualifications3 To 6 months sales experience preferred but not necessaryProficient with Microsoft OfficeExperience in the delivery process or in the fieldExcellent customer acquisition skillsAbility to work effectively under pressureStrong desire to succeed and advance within the companyOrganized and detail focusedHigh level of integrity and integrity requiredAbility to work long hours of overtime during busy delivery timeOrganized and detail focusedHigh level of integrity and integrity requiredMust possess a good work ethic and work in a fast-paced environmentMust possess and drive for long hours of overtimeMust possess and drive for short/lon timesMust possess a good basic computer skills to operate this systemMust be able to work weekendsHome Daily\n",
            "\n",
            "'Route Sales Representative (LTD) Job in Corpus Christi, TX at P&S Enterprises, LLC'\n",
            "P&S Enterprises is seeking a Route Sales Representative in Corpus Christi for the first 1-2 weeks of the month to work part time at our local network.  The Route Sales Representative will be responsible for the management and delivery of accounts in the home network. We are looking for a motivated individual with a great attitude to join our winning team.This is a full time starting job with the opportunity for overtime to be provided as well.Route Sales Representative Responsibilities:  Provide exceptional and professional customer service to our customers;   Provide solutions for clients within assigned area;   Communicate effectively with customers and/or clients within assigned territory;   Assist customers with any order-signing paperwork;   Assist in selecting the orders for delivery;    Maintain customer accounts and accounts receivable;   Identify and direct clients at customers and/or business locations in our territory;    Maintain detailed reports on business transactions;    Report change orders to the Sales Representative about changes made to accounts and customers in the territory.Delivery Driver Qualifications:  Must have a clean driving record, have a valid driver's license and safe driving record.Must have valid driver’s license and good driving record.Must be able to walk, lift/carry pallets up to 70 lbs to customers’ homes without assistanceIf you have customer service experience, please attach a response!We are a wholesale food distributor located in Corpus Christi and have been in business for 15 years.Our food is a combination of baguettes, pita bread and rice doughnuts.  We prepare it daily and serve it with fries, hot dogs and sandwiches.\n",
            "\n",
            "'Driver/Warehouse / Warehouse Associate Job in Columbia, MO at Premier Logistics'\n",
            " Job Description:This position is responsible for providing customer-facing assistance as a driver in the warehouse, during pick-up and delivery of customer products.Essential Job Responsibilities:Deliver products to customer locations in a timely mannerLoad and unload vehicleCollect on unpaid orders and shipmentsInspect and monitor delivery vehicleMaintain accurate inventory of packages and materialsPerform pre and post trip inspection of delivery vehicleReport any issues or incidents to dispatchInspect delivery vehicles for damage or defective equipmentAbility to work in a fast-paced environment that requires a high degree of product knowledge and knowledge of order processing software, to include following order delivery software, emailing order and pickup software, checking delivery paperwork to make sure orders and orders are correct, filling orders properly and have proper delivery paperwork per company policyBe attentive to customer’s order and stock instructions as these will be discussed in the application process.Conduct pre and post trip customer check-in and inspection of delivery vehicle.Maintain order and receipt logs and logs for records purposes as required.Follow all safety and health requirements as defined by the Department of Transportation(s).Maintain a clean and safe delivery vehicle.Comply with all company policies that require personal protective equipment in the use of employee’s trucks, for example, tires and gas fuses.Have a good and professional work relationship with the customer and maintain a professional working relationship between the Warehouse and the Warehouse.Participate in weekly safety meetings as required, including: a team and on-time basis to ensure compliance with safety requirements.Report any customer concerns to Warehouse management.Maintain and secure all paperwork associated with orders and deliveries including safety rules and procedures.(slices cannabis into products at destination)Obey safety laws while performing the jobEnsure that all equipment is tied down and properly loaded in the warehouse during pick-up and deliverment.Maintain the safe operation of equipment in the warehouse and work place.\n",
            "\n",
            "[810 | 1058.14] loss=1.79 avg=2.48\n",
            "[820 | 1070.61] loss=2.29 avg=2.48\n",
            "[830 | 1083.09] loss=2.17 avg=2.48\n",
            "[840 | 1095.57] loss=2.00 avg=2.47\n",
            "[850 | 1108.04] loss=1.68 avg=2.45\n",
            "[860 | 1120.53] loss=2.28 avg=2.45\n",
            "[870 | 1133.02] loss=2.21 avg=2.45\n",
            "[880 | 1145.48] loss=2.14 avg=2.44\n",
            "[890 | 1157.95] loss=2.39 avg=2.44\n",
            "[900 | 1170.44] loss=2.49 avg=2.44\n",
            "[910 | 1182.92] loss=1.87 avg=2.43\n",
            "[920 | 1195.42] loss=1.47 avg=2.42\n",
            "[930 | 1207.89] loss=2.37 avg=2.41\n",
            "[940 | 1220.36] loss=2.29 avg=2.41\n",
            "[950 | 1232.84] loss=1.81 avg=2.40\n",
            "[960 | 1245.31] loss=2.00 avg=2.40\n",
            "[970 | 1257.79] loss=2.21 avg=2.39\n",
            "[980 | 1270.26] loss=1.87 avg=2.38\n",
            "[990 | 1282.73] loss=1.87 avg=2.38\n",
            "[1000 | 1295.21] loss=1.78 avg=2.37\n",
            "Saving checkpoint/run1/model-1000\n",
            "WARNING:tensorflow:From /tensorflow-1.15.2/python3.6/tensorflow_core/python/training/saver.py:963: remove_checkpoint (from tensorflow.python.training.checkpoint_management) is deprecated and will be removed in a future version.\n",
            "Instructions for updating:\n",
            "Use standard file APIs to delete files with this prefix.\n"
          ],
          "name": "stdout"
        }
      ]
    },
    {
      "cell_type": "markdown",
      "metadata": {
        "id": "ocnB_fTt_jc0",
        "colab_type": "text"
      },
      "source": [
        "copying checkpointfolder in the google drive"
      ]
    },
    {
      "cell_type": "code",
      "metadata": {
        "id": "RM7-CYWg2tvi",
        "colab_type": "code",
        "colab": {}
      },
      "source": [
        "gpt2.copy_checkpoint_to_gdrive(run_name='run1')"
      ],
      "execution_count": 0,
      "outputs": []
    },
    {
      "cell_type": "markdown",
      "metadata": {
        "id": "_LyQAq4HAP4V",
        "colab_type": "text"
      },
      "source": [
        "gernerating text from trained model"
      ]
    },
    {
      "cell_type": "code",
      "metadata": {
        "id": "Gh_bMet2CwPW",
        "colab_type": "code",
        "colab": {}
      },
      "source": [
        "gpt2.copy_checkpoint_from_gdrive(run_name='run1')"
      ],
      "execution_count": 0,
      "outputs": []
    },
    {
      "cell_type": "code",
      "metadata": {
        "id": "QQO1T0s4D227",
        "colab_type": "code",
        "outputId": "61847074-a3e8-4d2b-9e07-b6528cfc5e32",
        "colab": {
          "base_uri": "https://localhost:8080/",
          "height": 51
        }
      },
      "source": [
        "sess = gpt2.start_tf_sess()\n",
        "gpt2.load_gpt2(sess, run_name='run1')"
      ],
      "execution_count": 2,
      "outputs": [
        {
          "output_type": "stream",
          "text": [
            "Loading checkpoint checkpoint/run1/model-1000\n",
            "INFO:tensorflow:Restoring parameters from checkpoint/run1/model-1000\n"
          ],
          "name": "stdout"
        }
      ]
    },
    {
      "cell_type": "markdown",
      "metadata": {
        "id": "tNlHp83HBZMH",
        "colab_type": "text"
      },
      "source": [
        "#Text starting with delivery"
      ]
    },
    {
      "cell_type": "code",
      "metadata": {
        "id": "6gQeV-HWEQtk",
        "colab_type": "code",
        "colab": {
          "base_uri": "https://localhost:8080/",
          "height": 275
        },
        "outputId": "6fd7da70-edc7-47c4-aeb6-8222089a8065"
      },
      "source": [
        "gpt2.generate(sess,\n",
        "              length=250,\n",
        "              temperature=0.7,\n",
        "              prefix=\"Delivery\",\n",
        "              nsamples=5,\n",
        "              batch_size=5\n",
        "              )"
      ],
      "execution_count": 9,
      "outputs": [
        {
          "output_type": "stream",
          "text": [
            "Delivery - Start your career within a year of hire or you could join the fastest growing company in the World!REGISTERED NURSE/HOURSMAN/PROFESSIONAL DELIVERY DRIVER Job in Dallas, TX at Traverse Resources LLC'\n",
            "Prospect a new career opportunity with Traverse Resources, a leading supplier of supply chain management consulting services and training services to thousands of companies throughout the United States and Canada. Our goal is to provide a consultative approach in serving clients in all industries and industries, including healthcare, manufacturing, accounting, finance, administrative, training and more. Our client-facing, client-centered approach delivers a comprehensive benefits package that exceeds the client's expectations. Our services include:• Expertise management and management consulting services for new and existing clients• Generous and cost-effective contract management• Collaborative management and service delivery• Direct client management and service learning• Strategic client service learning• Multi-disciplinary service learning• Multi-disciplinary management and service learning• Majoring in Marketing or related field• Client service learning• Leadership and team development• Professional development• Organization and presentation• Organizational skills• Leadership in the classroom• Life and career development• Licensing and certification Requirements• Bachelor’s degree\n",
            "====================\n",
            "Delivery• Duties include, but are not limited to:• Determining the best course of action for each application process for each department• Assisting with the work of the F&T team• Organizing and driving the F&T team• Organizing and documenting work activities• Notifying our clients of missed appointments• Staging and developing new client relationships• Organizing internal and external resources• Developing new client relationships• Organizing and maintaining projects• Managing and managing user data• Managing and managing resources for external resources• Managing and maintaining multiple projects at the same timeQualifications• High school diploma or GED equivalent• Demonstrated experience as a Project Manager• Project Management Degree• Experience in a variety of areas of project management• Experience in a variety of different project management systems• Experience with project management software• Project Management Certification• Experience with Microsoft Project for Business (MVC, IIS, ASP.NET, etc.)• Experience with A&P web services• Experience with a variety of project management software• Experience with project management tools and platforms• Experience with development lifecycle management• Experience with Microsoft Project\n",
            "\n",
            "'Registered Nurse - RN Job in Phoenix, AZ at HumanEdge'\n",
            "Job Description:The RN - Registered Nurse\n",
            "====================\n",
            "Delivery driver, will deliver Amazon packages in a safe, timely, secure, and professional manner. Load and unload Amazon packages at delivery locations using a computer keyboard, or delivery assistant. Drivers must be able to lift and carry 50 pounds or less. If delivery driver is unable to lift 50 pounds, they must unload empty cartons or small plastic bags. A driver log in at time of delivery or set for delivery will be used for tracking purposes. Drivers must be able to work in a fast-paced environment. All drivers must be open and honest. Routes and times may vary a bit with different routes and delivery methods.COMPENSATION BASIC + BENEFITS PLUS:Medical, Dental, Vision, & Prescription Insurance Plans401(k) plan with company matchBonus potentialApply today and get paid when you start earning in the summer!https://intelliapp.driverapponline.com/c/americantruckinggroup?r=ziprecruiterhttps://intelliapp.driverapponline.com/c/americantruckinggroup/?r=ziprecruiterHELP US!Apply now and let us know if you are open and willing to work in the\n",
            "====================\n",
            "Delivery Requirements:·· High School Diploma or equivalent· Leadership Skills· Ability to Develop a Positive, Team-Based Team· Strong Work Ethic· Proven Ability to Lead and Drive Positive Behavior· Computer Literacy· Project Management Skills· Work Ethic (Project Management and Roles)· Organizational Skills· Ability to Organize and Organize a Team· Customer Service Skills· Organizational Skills· Organizational Skills· Organizational Skills· Ability to Organize and Organize a Team· Organizational Skills· Organizational Skills· Organizational Skills· Organizational Skills· Ability to Organize and Organize a Team· Organizational Skills· Organizational Skills· Organizational Skills· Organizational Skills· Organizational Skills· Organizational Skills· Organizational Skills· Organizational Skills· Organizational Skills· Organizational Skills· Organizational Skills· Organizational Skills· Organizational Skills· Organizational Skills· Organizational Skills· Organizational Skills· Organizational Skills· Organizational Skills· Organizational Skills· Organizational Skills· Organizational Skills· Organizational Skills· Organizational Skills· Organizational Skills· Organizational Skills· Organizational Skills· Organizational Skills· Organizational Skills· Organizational Skills· Organizational Skills· Organizational Skills· Organ\n",
            "====================\n",
            "Delivery Service Representative days work Weekends average 4-5 days· Delivery Driver positions include but are not limited to the following· Deliveries available in the evenings and weekends· Nights and/or weekends when drivers do not have reliable routes to make at home during peak season· Must have a clean driving record with no traffic violations· Must be able to safely operate a refrigerated truck· Must be able to pass a drug test and DOT physical each and every dayQualifications· High School Diploma or GED equivalent· Must maintain DOT physical· Must pass all DOT drug and alcohol tests· Must have a clean driving record· Must pass a DOT physical and road test· Must be able to pass a pre-employment drug screen· Must pass training· Must be able to work OT and holiday times· Must be at least 21 years old and have a clean background· Must pass a DOT physical and road test· Must meet all DOT requirements· Must be able to work flexible hours including overtime, weekends and holidays as needed· Must be able to demonstrate reliable delivery skills· Must be able to work in a team environment· Must pass a DOT drug and alcohol test· Must pass pre-employment DOT physical and road testRequirements· High School Diploma or GED equivalent\n",
            "====================\n"
          ],
          "name": "stdout"
        }
      ]
    },
    {
      "cell_type": "markdown",
      "metadata": {
        "id": "XX825Ig9Cu0U",
        "colab_type": "text"
      },
      "source": [
        "# Text start from cleaning jobs"
      ]
    },
    {
      "cell_type": "code",
      "metadata": {
        "id": "saxNbLLC5djP",
        "colab_type": "code",
        "colab": {
          "base_uri": "https://localhost:8080/",
          "height": 394
        },
        "outputId": "e95b6a01-0af9-4bf1-ff2b-903fb30b0ed0"
      },
      "source": [
        "gpt2.generate(sess,\n",
        "              length=250,\n",
        "              temperature=0.7,\n",
        "              prefix=\"cleaning jobs\",\n",
        "              nsamples=5,\n",
        "              batch_size=5\n",
        "              )"
      ],
      "execution_count": 13,
      "outputs": [
        {
          "output_type": "stream",
          "text": [
            "cleaning jobs and are willing to give all tips to vendors or walk in sales. Focus on Customer service and customer care. Experience with our Health Insurance division is a plus. Have a clean driving record. Forklift experience is a plus.Our delivery drivers are paid and responsible for their own delivery.     \n",
            "\n",
            "'Delivery Driver Job in Sacramento, CA at R+L Carriers'\n",
            " Job Summary:As a Delivery Driver for R+L Carriers, you will be responsible for safely operating a truck with a capacity of at least 26,000 pounds Gross Vehicle Weight (GVW). You will be required to follow assigned routes and meet delivery guidelines. The ideal candidate will have a clean driving record and be comfortable operating a two-wheel cart with a lift gate and roll bar. R+L Carriers offers an excellent compensation and comprehensive benefits package that includes Medical/Dental/Vision Insurance, 401(k) Retirement Plan with company matching contributions, Paid Vacation & Holidays, and free vacation lodging at our exclusive employee resorts in Daytona Beach, FL, Big Bear Lake, CA and Pigeon Forge, TN. Come and join the R+L Carriers TEAM!DUTIES, TASKS, RESPONSI\n",
            "====================\n",
            "cleaning jobs. We are growing and looking for independent contractors to deliver plumbing supplies to our customers. You can either be a part of a growing team of professional drivers or you can be part of a company where you can make a living.If you are both ready to take the next step and make a positive difference in the lives of others then join us!Shop at: www.dont-drive-your-team.com/\n",
            "\n",
            "'Driver Helper Job in Boca Raton, FL at Vacadun'\n",
            "We are seeking a Driver Helper to join our team! You will be responsible for safely driving to deliver goods to customers.​Responsibilities:Safely operates a tractor-trailer truck with a capacity of at least 26,000 pounds Gross Vehicle Weight (GVW).Maintains proper levels of proper equipment, including tractor-trailer combinations.Responsible for the safe and efficient operation of the truck.Responsible for the safe and efficient operation of the truck while transporting goods to and from specified destinations.Maintains proper levels of proper equipment, including tractor-trailer combinations.\n",
            "\n",
            "'Delivery Driver Job in Fort Collins, CO at e-Marketer'\n",
            "Delivery Driver/Delivery Driver\n",
            "====================\n",
            "cleaning jobs.Job Summary:Safely operates a tractor-trailer truck at night, driving to and from customers, selling products and supplies in a safe and timely manner.Delivers products to locations in the surrounding area.Consistently drives to pick up or deliver orders.Performs other job-related duties as assigned.This position requires a high level of customer service and communication skills. You must be able to work independently, problem solve independently, and be able to prioritize.Responsibilities:Deliver products to customer locations in a timely mannerLoad and unload vehicleCollect on unpaid orders and shipmentsInspect and monitor delivery vehicleMaintain accurate inventory of packages and materialsProvide excellent customer serviceOperate 16-ft. box truck with lift gate and trailerFurniture delivery DriverMust have Class A License and clean driving record.Prior experience driving a commercial motor vehicle is a plus.Clean driving record: no points.Maintain a clean and safe driving record.Demonstrate reliable transportation skills.Transport items from warehouse to drop off locations.How to Apply:Visit our Recruiting page to view potential openings.To apply text DOL-CROOK to 51893 to start the application process.\n",
            "\n",
            "'Delivery Driver Job in\n",
            "====================\n",
            "cleaning jobs, placing trash in bins or bins. Clean trash, placing them in bins or bins. You can average over 100 pounds, but you can also average over 200 pounds. You must be persistent, a team player, an active listener, and have good listening skills. You will be assigned a job, and you will be trained, and you will be trained for the job.Job duties include:·                                                                    ·                                                                                                     \n",
            "====================\n",
            "cleaning jobs, cleaning and maintenance of vehicles and trucks.Responsibilities:Cleaning:Driving a tractor and trailerMaintaining tractor and trailerClean:Driving vehicle and picking up trashMaintaining truck and trailer cleanliness and orderlinessMaintaining vehicle equipment and equipment check-in and out of truck at the end of the dayResponsibilities:Checks:Exempt:Driving license:driver must be able to show up to work on timeDriver must have a clean DMV record or be willing to get out of state to get the job done.Deliveries:Driving trucks:1.Loading and unloading product2.Unloading product 3.Loading and stocking shelves4.Unloading product 5.Unloading product 6.Loading and stocking shelves7.Unloading product8.Unloading product9.Unloading product10.Unloading product11.Unloading product12.Loading and stocking shelves13.Unloading product14.Unloading product15.Unloading product16.Unloading product17.Loading and stocking shelves18.Loading and stocking shelves19.Loading and stocking shelves20.Loading and stocking shelves21.Loading and stocking shelves22.Loading and stocking shelves23.Loading and stocking shelves24\n",
            "====================\n"
          ],
          "name": "stdout"
        }
      ]
    }
  ]
}